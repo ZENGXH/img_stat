{
 "cells": [
  {
   "cell_type": "code",
   "execution_count": 15,
   "metadata": {},
   "outputs": [
    {
     "name": "stdout",
     "output_type": "stream",
     "text": [
      "('max', 5576663.0479999995)\n",
      "('min', 3.6372471731994911)\n"
     ]
    },
    {
     "data": {
      "image/png": "[encoded data removed]",
      "text/plain": [
       "<matplotlib.figure.Figure at 0x11ac1af50>"
      ]
     },
     "metadata": {},
     "output_type": "display_data"
    },
    {
     "name": "stdout",
     "output_type": "stream",
     "text": [
      "('shape', (168, 342))\n"
     ]
    }
   ],
   "source": [
    "#import cv2\n",
    "import numpy as np\n",
    "from matplotlib import pyplot as plt\n",
    "import numpy as np\n",
    "\n",
    "def rgb2gray(rgb):\n",
    "    r, g, b = rgb[:,:,0], rgb[:,:,1], rgb[:,:,2]\n",
    "    gray = 0.2989 * r + 0.5870 * g + 0.1140 * b\n",
    "    return gray\n",
    "\n",
    "img = plt.imread('/users/zengxiaohui/Downloads/Picture1.png',0)\n",
    "img = rgb2gray(img)\n",
    "f = np.fft.fft2(img)\n",
    "print('max', np.abs(f).max())\n",
    "print('min', np.abs(f).min())\n",
    "#fshift = np.fft.fftshift(f)\n",
    "#magnitude_spectrum = 20*np.log(np.abs(fshift))\n",
    "plt.subplot(121),plt.imshow(img, cmap = 'gray')\n",
    "plt.title('Input Image'), plt.xticks([]), plt.yticks([])\n",
    "#plt.subplot(122),plt.imshow(magnitude_spectrum, cmap = 'gray')\n",
    "#plt.title('Magnitude Spectrum'), plt.xticks([]), plt.yticks([])\n",
    "plt.show()\n",
    "\n",
    "print('shape', f.shape)"
   ]
  },
  {
   "cell_type": "code",
   "execution_count": 17,
   "metadata": {},
   "outputs": [
    {
     "name": "stdout",
     "output_type": "stream",
     "text": [
      "35789\n",
      "1001\n"
     ]
    },
    {
     "data": {
      "image/png": "[encoded data removed]",
      "text/plain": [
       "<matplotlib.figure.Figure at 0x11ace4410>"
      ]
     },
     "metadata": {},
     "output_type": "display_data"
    }
   ],
   "source": [
    "ds = []\n",
    "vs = []\n",
    "intergral_keys = []\n",
    "# iterative every location and record \n",
    "# 1 the distance to the center of the image in ds\n",
    "# 2 the fourier transformed image value in vs\n",
    "for x in range(f.shape[0]):\n",
    "    for y in range(f.shape[1]):\n",
    "        \n",
    "        d2 = (x - f.shape[0]/2) * (x - f.shape[0]/2) + (y - f.shape[1]/2) * (y - f.shape[1]/2)\n",
    "        if(d2 not in intergral_keys):\n",
    "            intergral_keys.append(d2)\n",
    "        ds.append(d2)\n",
    "        vs.append(np.abs(f[x, y]) * np.abs(f[x, y])) # * f[x, y])\n",
    "        \n",
    "print(ds[-1])\n",
    "ds = np.array(ds)\n",
    "vs = np.array(vs)\n",
    "\n",
    "val = []\n",
    "# do intergration for each keys, append to val for figure\n",
    "for i in sorted(intergral_keys):\n",
    "    \n",
    "    if i == 0:\n",
    "        continue\n",
    "    lowb = i\n",
    "    upb = 4 * lowb\n",
    "    indx = np.where(np.logical_and(ds>=lowb, ds<=upb))\n",
    "    #indx = indx[0]\n",
    "\n",
    "    val.append(sum(vs[indx]))\n",
    "    if(len(val) > 1000): # early stop\n",
    "        break\n",
    "#val = val[10:]\n",
    "print(len(val))\n",
    "x = range(len(val))\n",
    "plt.scatter(x, val)\n",
    "plt.show()\n"
   ]
  },
  {
   "cell_type": "code",
   "execution_count": 8,
   "metadata": {},
   "outputs": [
    {
     "data": {
      "text/plain": [
       "8.7103443612144087"
      ]
     },
     "execution_count": 8,
     "metadata": {},
     "output_type": "execute_result"
    }
   ],
   "source": [
    "2 * np.pi * np.log(4)"
   ]
  },
  {
   "cell_type": "code",
   "execution_count": null,
   "metadata": {
    "collapsed": true
   },
   "outputs": [],
   "source": []
  }
 ],
 "metadata": {
  "kernelspec": {
   "display_name": "Python 2",
   "language": "python",
   "name": "python2"
  },
  "language_info": {
   "codemirror_mode": {
    "name": "ipython",
    "version": 2
   },
   "file_extension": ".py",
   "mimetype": "text/x-python",
   "name": "python",
   "nbconvert_exporter": "python",
   "pygments_lexer": "ipython2",
   "version": "2.7.13"
  }
 },
 "nbformat": 4,
 "nbformat_minor": 2
}
